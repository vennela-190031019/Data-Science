{
  "nbformat": 4,
  "nbformat_minor": 0,
  "metadata": {
    "colab": {
      "name": "Untitled22.ipynb",
      "provenance": []
    },
    "kernelspec": {
      "name": "python3",
      "display_name": "Python 3"
    },
    "language_info": {
      "name": "python"
    }
  },
  "cells": [
    {
      "cell_type": "code",
      "metadata": {
        "id": "oyqlJ46gucpl"
      },
      "source": [
        "pip install geopy\n",
        "pip install folium\n",
        "print(\"Installed!\")"
      ],
      "execution_count": null,
      "outputs": []
    },
    {
      "cell_type": "code",
      "metadata": {
        "id": "JWbvUOWrubXv"
      },
      "source": [
        "import folium\n",
        "import requests \n",
        "import json \n",
        "import matplotlib.cm as cm\n",
        "import matplotlib.colors as colors\n",
        "import pandas as pd\n",
        "\n",
        "from pandas.io.json import json_normalize \n",
        "from sklearn.cluster import KMeans\n",
        "from geopy.geocoders import Nominatim \n",
        "\n",
        "pd.set_option('display.max_columns', None)\n",
        "pd.set_option('display.max_rows', None)\n",
        "\n",
        "print(\"Imported!\")"
      ],
      "execution_count": null,
      "outputs": []
    },
    {
      "cell_type": "code",
      "metadata": {
        "id": "kyXnQq59uf98"
      },
      "source": [
        "df = pd.read_csv('toronto_part2.csv')\n",
        "print(df.shape)\n",
        "df.head()"
      ],
      "execution_count": null,
      "outputs": []
    },
    {
      "cell_type": "code",
      "metadata": {
        "id": "ykCIWe8muoe3"
      },
      "source": [
        "address = 'Toronto, Ontario Canada'\n",
        "geolocator = Nominatim()\n",
        "location = geolocator.geocode(address)\n",
        "latitude = location.latitude\n",
        "longitude = location.longitude\n",
        "print('The geograpical coordinate of Toronto Canada are {}, {}.'.format(latitude, longitude))"
      ],
      "execution_count": null,
      "outputs": []
    }
  ]
}